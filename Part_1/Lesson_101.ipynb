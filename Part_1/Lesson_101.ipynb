{
 "cells": [
  {
   "cell_type": "markdown",
   "metadata": {},
   "source": [
    "# Data Types *101*\n",
    "---\n",
    "There are many different data types.\\\n",
    "Strings, Integers, Floats, Lists, just to name a few.\\\n",
    "Lets take a high level look at String and Integers for now."
   ]
  },
  {
   "cell_type": "markdown",
   "metadata": {},
   "source": [
    "### **Strings**\n",
    "- Strings are a series of characters enclosed with \" \"\n",
    "- These characters include everything you can type with the keyboard.\n",
    "\n",
    "**Good Examples**\\\n",
    "\"Hello\"\\\n",
    "\"Hello World!\"\\\n",
    "\"Corvettes are fast\"\\\n",
    "\"There are 8 people out of 10 that made it.  That make an 80% turnout!\"\n",
    "\n",
    "**Bad Examples**\\\n",
    "\"Hello   <-- Open, but not closed\\\n",
    "Hello\"   <-- Not opened, but closed"
   ]
  },
  {
   "cell_type": "markdown",
   "metadata": {},
   "source": [
    "### **Print Statement**\n",
    "As a developer on of our most poerful tools is the print statement.\\\n",
    "So much so, that every language has one.\\\n",
    "It can be used to test code or to check that it working as expected.\\\n",
    "\\\n",
    "The print statement will output any data it is given to the console log.\\\n",
    "To use the print statement we simply \"call\" or type print followed by \"()\"\\\n",
    "Then we need to pass something for it to print.\\\n",
    "\\\n",
    "**Lets Practice!**"
   ]
  },
  {
   "cell_type": "code",
   "execution_count": 10,
   "metadata": {},
   "outputs": [
    {
     "name": "stdout",
     "output_type": "stream",
     "text": [
      "hello world!\n",
      "my name is Bob\n"
     ]
    }
   ],
   "source": [
    "print(\"hello world!\")\n",
    "print(\"my name is Bob\")"
   ]
  },
  {
   "cell_type": "markdown",
   "metadata": {},
   "source": [
    "With a print statement, we can pass two, but only two, different things seperated by a comma.\\\n",
    "The print statement will combine the two into one statement."
   ]
  },
  {
   "cell_type": "code",
   "execution_count": 7,
   "metadata": {},
   "outputs": [
    {
     "name": "stdout",
     "output_type": "stream",
     "text": [
      "hello world!\n"
     ]
    }
   ],
   "source": [
    "print(\"hello\", \"world!\") # <-- NOTE I did not add a space before world.  The print statment will add a space for us"
   ]
  },
  {
   "cell_type": "markdown",
   "metadata": {},
   "source": [
    "We can also combine or concatenate strings into one.\\\n",
    "We can combine as many as we want."
   ]
  },
  {
   "cell_type": "code",
   "execution_count": 9,
   "metadata": {},
   "outputs": [
    {
     "name": "stdout",
     "output_type": "stream",
     "text": [
      "Hello World! I am 22years old\n"
     ]
    }
   ],
   "source": [
    "print(\"Hello World! \" + \"I am 22\" + \"years old\") # <-- NOTE When concatenating strings we need to add spaces manually"
   ]
  },
  {
   "cell_type": "markdown",
   "metadata": {},
   "source": [
    "### Integers\n",
    "- Integers are any whole number\n",
    "- Integers can be either positive or negative\n",
    "- integers are not enclosed in \" \"\n",
    "\n",
    "**Good Examples**\\\n",
    "1\\\n",
    "12\\\n",
    "412\n",
    "\n",
    "**Bad Examples**\\\n",
    "\"21\"\\\n",
    "23.4\n",
    "\n",
    "**Lets Print some Ints**"
   ]
  },
  {
   "cell_type": "code",
   "execution_count": null,
   "metadata": {},
   "outputs": [],
   "source": [
    "print(42)\n",
    "print(22)\n",
    "print(\"hello\",22) # <-- NOTE the print statement can combine strings and ints / They become one string"
   ]
  },
  {
   "cell_type": "markdown",
   "metadata": {},
   "source": [
    "# Variables\n",
    "---\n",
    "Variables are best thought as boxes that we can store data in.\\\n",
    "When we define a variable we are creating a box with a lable on it.\\\n",
    "The computer will put that \"box\" in storage somewhere in its memory.\\\n",
    "Then we call that \"box\" by its lable, the computer will give us the data we stored in it.\n",
    "\n",
    "Variables can be named anything we want, but there are some rules.\\\n",
    "We can only use a-z and 0-9.\\\n",
    "Variable must start with a lowercase letter.\\\n",
    "If a varible name is made up of two words we can seperate them with an underscore _\\\n",
    "We can store many things in a variable, but for now lets just focus on storing data types.\n",
    "\n",
    "**Lets Define Some Variables**"
   ]
  },
  {
   "cell_type": "code",
   "execution_count": null,
   "metadata": {},
   "outputs": [],
   "source": [
    "my_variable = None # <-- this is createing an empty space in memory saved for future data\n",
    "x = 10\n",
    "y = 2"
   ]
  },
  {
   "cell_type": "markdown",
   "metadata": {},
   "source": [
    "So, we didn't get an output...\\\n",
    "Thats normal, we only defined the variables.\\\n",
    "Next we have to \"call\" them.\\\n",
    "That just means to work the variable name, or \"lable\" into the code.\n",
    "\n",
    "Lets see how that might look with a print statement."
   ]
  },
  {
   "cell_type": "code",
   "execution_count": null,
   "metadata": {},
   "outputs": [],
   "source": [
    "print(x)\n",
    "print(y)\n",
    "print(y,x)"
   ]
  },
  {
   "cell_type": "markdown",
   "metadata": {},
   "source": [
    "It's important to note that calling the variable will simply \"return\" the data stored in it.\\\n",
    "Think of it as just injecting the stored data into the code as we see above.\n",
    "\n",
    "EXTRA:\n",
    "- We can alter a variable and then update the data stored in that variable.  We can completely change the data type.\n",
    "- we can also alter the data and store it in a new variable."
   ]
  },
  {
   "cell_type": "code",
   "execution_count": null,
   "metadata": {},
   "outputs": [],
   "source": [
    "print(\"Original:\", my_variable)\n",
    "\n",
    "my_variable = \"Hello World!\"\n",
    "print(\"Altered/Same Var:\", my_variable)\n",
    "\n",
    "new_variable = my_variable[:-1] + \", my name Freddy\" + my_variable[-1] # <-- Tricky LOL\n",
    "new_variable"
   ]
  },
  {
   "cell_type": "markdown",
   "metadata": {},
   "source": [
    "# Homework\n",
    "---"
   ]
  },
  {
   "cell_type": "markdown",
   "metadata": {},
   "source": [
    "### 1.) Write a print statement containing the string \"Hello World!\""
   ]
  },
  {
   "cell_type": "code",
   "execution_count": null,
   "metadata": {},
   "outputs": [],
   "source": []
  },
  {
   "cell_type": "markdown",
   "metadata": {},
   "source": [
    "### 2.) Write a print statment containing any integer"
   ]
  },
  {
   "cell_type": "code",
   "execution_count": null,
   "metadata": {},
   "outputs": [],
   "source": []
  },
  {
   "cell_type": "markdown",
   "metadata": {},
   "source": [
    "### 3.) Write a print two prints statments, one showing how to combine a string and an integer, and another combineing 3 or more string"
   ]
  },
  {
   "cell_type": "code",
   "execution_count": null,
   "metadata": {},
   "outputs": [],
   "source": []
  },
  {
   "cell_type": "markdown",
   "metadata": {},
   "source": [
    "### 4.) Create 10 variables and store 10 strings"
   ]
  },
  {
   "cell_type": "code",
   "execution_count": null,
   "metadata": {},
   "outputs": [],
   "source": []
  },
  {
   "cell_type": "markdown",
   "metadata": {},
   "source": [
    "### 5.) Create 10 variables and store 10 integers"
   ]
  },
  {
   "cell_type": "code",
   "execution_count": null,
   "metadata": {},
   "outputs": [],
   "source": []
  },
  {
   "cell_type": "markdown",
   "metadata": {},
   "source": [
    "### 6.) Print all 20 Variables one by one."
   ]
  },
  {
   "cell_type": "code",
   "execution_count": null,
   "metadata": {},
   "outputs": [],
   "source": []
  },
  {
   "cell_type": "markdown",
   "metadata": {},
   "source": [
    "### 7.) Create a variable containing a string, print it, then re-assign the variables value as a integer, and print that variable again."
   ]
  },
  {
   "cell_type": "code",
   "execution_count": null,
   "metadata": {},
   "outputs": [],
   "source": []
  }
 ],
 "metadata": {
  "kernelspec": {
   "display_name": "Python 3",
   "language": "python",
   "name": "python3"
  },
  "language_info": {
   "codemirror_mode": {
    "name": "ipython",
    "version": 3
   },
   "file_extension": ".py",
   "mimetype": "text/x-python",
   "name": "python",
   "nbconvert_exporter": "python",
   "pygments_lexer": "ipython3",
   "version": "3.12.4"
  }
 },
 "nbformat": 4,
 "nbformat_minor": 2
}
